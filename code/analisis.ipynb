{
 "cells": [
  {
   "cell_type": "markdown",
   "id": "4aa0ee2c",
   "metadata": {},
   "source": [
    "# Partido Diablos vs Sultanes 2025-06-17"
   ]
  },
  {
   "cell_type": "markdown",
   "id": "e5e9687d",
   "metadata": {},
   "source": [
    "Notebook para analizar y generar reportes del partido entre Diablos Rojos y Sultanes de Monterrey del 17 de junio de 2025. Se utilizan datos de TrackMan y la API de MLB.\n",
    "\n",
    "* [TrackMan](https://support.trackmanbaseball.com/hc/en-us/articles/5089413493787-V3-FAQs-Radar-Measurement-Glossary-Of-Terms)\n",
    "* [MLB](https://github.com/MajorLeagueBaseball/google-cloud-mlb-hackathon/tree/main/datasets/mlb-statsapi-docs)"
   ]
  },
  {
   "cell_type": "markdown",
   "id": "664a9617",
   "metadata": {},
   "source": [
    "## Importar bibliotecas y datos"
   ]
  },
  {
   "cell_type": "code",
   "execution_count": null,
   "id": "a73a2528",
   "metadata": {},
   "outputs": [],
   "source": [
    "import pandas as pd\n",
    "pd.set_option('display.max_columns', None)\n",
    "import numpy as np\n",
    "%matplotlib inline\n",
    "import matplotlib.pyplot as plt\n",
    "from matplotlib.gridspec import GridSpec\n",
    "import seaborn as sns"
   ]
  },
  {
   "cell_type": "code",
   "execution_count": null,
   "id": "ef48861c",
   "metadata": {},
   "outputs": [],
   "source": [
    "ruta = '../data/20250617-EstadioAlfredo-1.csv'\n",
    "df = pd.read_csv(ruta, sep=',', encoding='utf-8')\n",
    "#df.head()"
   ]
  },
  {
   "cell_type": "code",
   "execution_count": null,
   "id": "3f31238e",
   "metadata": {},
   "outputs": [],
   "source": [
    "ruta = '../data/pitchers.csv'\n",
    "pitchers = pd.read_csv(ruta, sep=',', encoding='utf-8')\n",
    "#pitchers.head()"
   ]
  },
  {
   "cell_type": "code",
   "execution_count": null,
   "id": "3f31238e",
   "metadata": {},
   "outputs": [],
   "source": [
    "ruta = '../data/bateadores.csv'\n",
    "bateadores = pd.read_csv(ruta, sep=',', encoding='utf-8')\n",
    "#bateadores.head()"
   ]
  },
  {
   "cell_type": "markdown",
   "id": "d15ca543",
   "metadata": {},
   "source": [
    "## Exploracion inicial de datos"
   ]
  },
  {
   "cell_type": "code",
   "execution_count": null,
   "id": "62eecf2b",
   "metadata": {},
   "outputs": [],
   "source": [
    "df.shape"
   ]
  },
  {
   "cell_type": "code",
   "execution_count": null,
   "id": "4fafddc6",
   "metadata": {},
   "outputs": [],
   "source": [
    "list(df.columns)"
   ]
  },
  {
   "cell_type": "code",
   "execution_count": null,
   "id": "e7525503",
   "metadata": {},
   "outputs": [],
   "source": [
    "df.dtypes"
   ]
  },
  {
   "cell_type": "code",
   "execution_count": null,
   "id": "7c9e5704",
   "metadata": {},
   "outputs": [],
   "source": [
    "df.describe()"
   ]
  },
  {
   "cell_type": "markdown",
   "id": "74b9b4ab",
   "metadata": {},
   "source": [
    "## Limpiar datos"
   ]
  },
  {
   "cell_type": "code",
   "execution_count": null,
   "id": "b9a00a44",
   "metadata": {},
   "outputs": [],
   "source": [
    "# Elimiar columnas que no se van a usar\n",
    "df = df.drop(columns=[\n",
    "    'UTCDate', 'UTCTime', 'LocalDateTime', 'UTCDateTime', 'PitcherId', 'PitcherTeam', 'BatterId',\n",
    "    'BatterTeam', 'PitcherSet', 'AutoPitchType', 'AutoHitType', 'Notes', 'Distance', 'Stadium',\n",
    "    'HomeTeamForeignID', 'AwayTeamForeignID', 'GameForeignID', 'Level', 'League', 'GameID',\n",
    "    'PitchUID', 'System'\n",
    "  ], axis=1)"
   ]
  },
  {
   "cell_type": "code",
   "execution_count": null,
   "id": "0613f649",
   "metadata": {},
   "outputs": [],
   "source": [
    "df['Pitcher'] = df['Pitcher'].str.split(', ').apply(lambda x: x[1] + ' ' + x[0])\n",
    "df['Batter'] = df['Batter'].str.split(', ').apply(lambda x: x[1] + ' ' + x[0])\n",
    "df['TaggedPitchType'] = df['TaggedPitchType'].str.replace('FourSeamFastBall', 'FF', regex=True)"
   ]
  },
  {
   "cell_type": "code",
   "execution_count": null,
   "id": "35e58196",
   "metadata": {},
   "outputs": [],
   "source": [
    "pitchers['Pitcher'] = pitchers['Pitcher'].str.replace('Á', 'A').str.replace('É', 'E').str.replace('Í', 'I').str.replace('Ó', 'O').str.replace('Ú', 'U')\n",
    "pitchers['Pitcher'] = pitchers['Pitcher'].str.replace('á', 'a').str.replace('é', 'e').str.replace('í', 'i').str.replace('ó', 'o').str.replace('ú', 'u')\n",
    "pitchers['InningsPitch'] = pitchers['TotalOuts'].apply(lambda x: f'{(x // 3)}.{(x % 3)}')"
   ]
  },
  {
   "cell_type": "code",
   "execution_count": null,
   "id": "690e8d85",
   "metadata": {},
   "outputs": [],
   "source": [
    "bateadores['Bateador'] = bateadores['Bateador'].str.replace('Á', 'A').str.replace('É', 'E').str.replace('Í', 'I').str.replace('Ó', 'O').str.replace('Ú', 'U')\n",
    "bateadores['Bateador'] = bateadores['Bateador'].str.replace('á', 'a').str.replace('é', 'e').str.replace('í', 'i').str.replace('ó', 'o').str.replace('ú', 'u')"
   ]
  },
  {
   "cell_type": "markdown",
   "id": "458c8290",
   "metadata": {},
   "source": [
    "## Separar en 2 dataframes uno para local y otro para visitante"
   ]
  },
  {
   "cell_type": "code",
   "execution_count": null,
   "id": "bf0b8a82",
   "metadata": {},
   "outputs": [],
   "source": [
    "homeAtBats = df[df['Top/Bottom'] == 'Bottom'].copy()\n",
    "awayAtBats = df[df['Top/Bottom'] == 'Top'].copy()\n",
    "\n",
    "homePitchers = pd.merge(\n",
    "    awayAtBats['Pitcher'], pitchers,\n",
    "    on='Pitcher'\n",
    ").drop_duplicates().reset_index(drop=True)\n",
    "awayPitchers = pd.merge(\n",
    "    homeAtBats['Pitcher'], pitchers,\n",
    "    on='Pitcher'\n",
    ").drop_duplicates()\n",
    "\n",
    "homeBateadores = pd.merge(\n",
    "    homeAtBats['Batter'], bateadores,\n",
    "    left_on='Batter', right_on='Bateador'\n",
    ").drop_duplicates().reset_index(drop=True)\n",
    "awayBateadores = pd.merge(\n",
    "    awayAtBats['Batter'], bateadores,\n",
    "    left_on='Batter', right_on='Bateador'\n",
    ").drop_duplicates().reset_index(drop=True)"
   ]
  },
  {
   "cell_type": "markdown",
   "id": "0c8b864b",
   "metadata": {},
   "source": [
    "## Funciones"
   ]
  },
  {
   "cell_type": "code",
   "execution_count": null,
   "id": "07605f77",
   "metadata": {},
   "outputs": [],
   "source": [
    "def graficarZonaStrike(ax=None, sz_top=3.5, sz_bot=1.5, vistaCatcher=True):\n",
    "    if ax is None:\n",
    "        fig, ax = plt.subplots(figsize=(5, 6))\n",
    "    sz_left = -0.708\n",
    "    sz_right = 0.708\n",
    "    ax.plot([sz_left, sz_right], [sz_bot, sz_bot], 'k-')\n",
    "    ax.plot([sz_left, sz_left], [sz_bot, sz_top], 'k-')\n",
    "    ax.plot([sz_right, sz_right], [sz_bot, sz_top], 'k-')\n",
    "    ax.plot([sz_left, sz_right], [sz_top, sz_top], 'k-')\n",
    "\n",
    "    if vistaCatcher:\n",
    "        ax.plot([sz_left, sz_right], [0, 0], 'k-')\n",
    "        ax.plot([sz_left, sz_left], [0, -0.15], 'k-')\n",
    "        ax.plot([sz_right, sz_right], [0, -0.15], 'k-')\n",
    "        ax.plot([sz_left, 0], [-0.15, -0.4], 'k-')\n",
    "        ax.plot([sz_right, 0], [-0.15, -0.4], 'k-')\n",
    "    else:\n",
    "        ax.plot([0, sz_left], [0, -0.25], 'k-')\n",
    "        ax.plot([0, sz_right], [0, -0.25], 'k-')\n",
    "        ax.plot([sz_left, sz_left], [-0.25, -0.4], 'k-')\n",
    "        ax.plot([sz_right, sz_right], [-0.25, -0.4], 'k-')\n",
    "        ax.plot([sz_left, sz_right], [-0.4, -0.4], 'k-')\n",
    "\n",
    "    ax.set_xlim(-2.7, 2.7)\n",
    "    ax.set_ylim(-0.5, 5.7)\n",
    "\n",
    "    sns.set_style('white')\n",
    "    sns.despine(right=True, top=True, left=True, bottom=True)\n",
    "    ax.set_xticks([])\n",
    "    ax.set_yticks([])\n",
    "    \n",
    "    return ax"
   ]
  },
  {
   "cell_type": "code",
   "execution_count": null,
   "id": "fa9dff5c",
   "metadata": {},
   "outputs": [],
   "source": [
    "def graficarDistribucionLanzamientos(dfDist, dfPos, titulo):\n",
    "    colores = {'FF': '#005F73', 'Curveball': '#94D2BD', 'Splitter': '#EE9B00', 'Slider': '#BB3E03'}\n",
    "    tipos = dfDist['Tipo lanzamiento'].unique().tolist()\n",
    "    nTipos = len(tipos)\n",
    "    columns = 5\n",
    "    rows = (nTipos//columns) + 1\n",
    "    fig = plt.figure(figsize=(columns * 3, rows * 3))\n",
    "    plt.tight_layout()\n",
    "    gs = GridSpec(rows, columns, figure=fig, \n",
    "                width_ratios=[1.7] + [1]*(columns-1), \n",
    "                height_ratios=[1]*rows,\n",
    "                wspace=0.05, hspace=0.05,\n",
    "                top=0.87\n",
    "                )\n",
    "    \n",
    "    ax1 = fig.add_subplot(gs[0, 0])\n",
    "    ax1_pos = ax1.get_position()\n",
    "    ax1.set_position([ax1_pos.x0, ax1_pos.y0 + 0.3, ax1_pos.width, ax1_pos.height])\n",
    "    plot = ax1.pie(\n",
    "        dfDist['Porcentaje'], \n",
    "        autopct='%1.1f%%', startangle=90,\n",
    "        colors=dfDist['Tipo lanzamiento'].map(colores).to_list(),\n",
    "        wedgeprops=dict(width=0.3),\n",
    "        radius=0.7,\n",
    "        pctdistance=1.4\n",
    "    )\n",
    "    ax1.text(\n",
    "        0, 0,\n",
    "        dfDist['Total'].sum(),\n",
    "        ha='center', va='center',\n",
    "        fontsize=14, weight='bold'\n",
    "    )\n",
    "    ax1.legend(plot[0], dfDist['Tipo lanzamiento'],\n",
    "          loc=\"lower center\",\n",
    "          ncol=3,\n",
    "          frameon=False,\n",
    "          fontsize=12,\n",
    "          bbox_to_anchor=(0.5, -0.2)\n",
    "    )\n",
    "    \n",
    "    for i in range(rows):\n",
    "        for j in range(1, columns):\n",
    "            if (i * columns + j - 1) >= nTipos:\n",
    "                break\n",
    "            tipo = tipos[(columns-1)*(i)+(j-1)]\n",
    "            ax = fig.add_subplot(gs[i, j])\n",
    "            graficarZonaStrike(ax=ax)\n",
    "            try:\n",
    "                sns.kdeplot(\n",
    "                    data=dfPos[dfPos['TaggedPitchType'] == tipo],\n",
    "                    x=-dfPos['PlateLocSide'],\n",
    "                    y='PlateLocHeight',\n",
    "                    color='red',\n",
    "                    fill=True\n",
    "                )\n",
    "            except:\n",
    "                pass\n",
    "            sns.scatterplot(\n",
    "                data=dfPos[dfPos['TaggedPitchType'] == tipo],\n",
    "                x=-dfPos['PlateLocSide'],\n",
    "                y='PlateLocHeight'\n",
    "            )\n",
    "            ax.set_title(tipo, fontsize=12, y=-0.1)\n",
    "\n",
    "    fig.suptitle(titulo, fontsize=16, y=0.95)\n",
    "    fig.subplots_adjust(left=0.05, right=0.95, bottom=0.05, top=0.9)\n",
    "    return fig"
   ]
  },
  {
   "cell_type": "markdown",
   "id": "5b64b5b1",
   "metadata": {},
   "source": [
    "## Diablos"
   ]
  },
  {
   "cell_type": "markdown",
   "id": "cfca7863",
   "metadata": {},
   "source": [
    "### Lineup"
   ]
  },
  {
   "cell_type": "code",
   "execution_count": null,
   "id": "d3684895",
   "metadata": {},
   "outputs": [],
   "source": [
    "lineUpDiablos = homeBateadores[['Bateador', 'Position', 'seasonAVG', 'seasonOPS']].rename(\n",
    "    columns={'Bateador': 'Nombre', 'Position': 'Posición', 'seasonAVG': 'AVG', 'seasonOPS': 'OPS'}\n",
    ")\n",
    "lineUpDiablos.to_csv('../reporte/csv/lineUp/lineUpDiablos.csv', index=False, encoding='utf-8-sig')\n",
    "#lineUpDiablos"
   ]
  },
  {
   "cell_type": "markdown",
   "id": "8aeca16e",
   "metadata": {},
   "source": [
    "### Pitchers"
   ]
  },
  {
   "cell_type": "code",
   "execution_count": null,
   "id": "6f1c76e3",
   "metadata": {},
   "outputs": [],
   "source": [
    "ordenColumnas = ['Nombre', 'Entrada de inicio', 'Entradas lanzadas', 'ERA']\n",
    "pitchersDiablos = pd.merge(\n",
    "    homePitchers[['Pitcher', 'InningsPitch', 'seasonERA']], awayAtBats.groupby('Pitcher')['Inning'].min(),\n",
    "    on='Pitcher'\n",
    ").rename(\n",
    "    columns={'Pitcher': 'Nombre', 'Inning': 'Entrada de inicio', 'InningsPitch':'Entradas lanzadas', 'seasonERA': 'ERA'}\n",
    ")[ordenColumnas]\n",
    "pitchersDiablos.to_csv('../reporte/csv/pitchers/pitchersDiablos.csv', index=False, encoding='utf-8-sig')\n",
    "#pitchersDiablos"
   ]
  },
  {
   "cell_type": "markdown",
   "id": "f68d303d",
   "metadata": {},
   "source": [
    "### Analisis por pitcher"
   ]
  },
  {
   "cell_type": "markdown",
   "id": "e7cf3a38",
   "metadata": {},
   "source": [
    "#### Línea de pitcheo"
   ]
  },
  {
   "cell_type": "code",
   "execution_count": null,
   "id": "5a1376c0",
   "metadata": {},
   "outputs": [],
   "source": [
    "lineaPitcheoDiablos = pd.merge(\n",
    "    homePitchers[['Team', 'Pitcher', 'BattersFaced', 'InningsPitch', 'runs', 'earnedRuns']],\n",
    "    awayAtBats.groupby(['Pitcher', 'BatterSide']).agg(\n",
    "        NoLanzamientos=pd.NamedAgg(column='PitchNo', aggfunc='count'),\n",
    "        startInning=pd.NamedAgg(column='Inning', aggfunc='min'),\n",
    "        Strikes=pd.NamedAgg(column='PitchCall', aggfunc=lambda x: np.where(\n",
    "            (x.str.startswith('Strike')) | (x.str.startswith('FoulBall')) | (x.str.startswith('InPlay')), 1, 0).sum()),\n",
    "        SwingStrikes=pd.NamedAgg(column='PitchCall', aggfunc=lambda x: np.where(x == 'StrikeSwinging', 1, 0).sum()),\n",
    "        Bolas=pd.NamedAgg(column='PitchCall', aggfunc=lambda x: np.where(x.str.startswith('Ball'), 1, 0).sum()),\n",
    "        Ponches=pd.NamedAgg(column='KorBB', aggfunc=lambda x: np.where(x == 'Strikeout', 1, 0).sum()),\n",
    "        Walk=pd.NamedAgg(column='KorBB', aggfunc=lambda x: np.where(x == 'Walk', 1, 0).sum())\n",
    "    ).reset_index(), on='Pitcher'\n",
    ").rename(\n",
    "    columns={\n",
    "        'Pitcher': 'Nombre', 'NoLanzamientos': 'No lanzamientos', 'BattersFaced': 'Bateadores enfrentados',\n",
    "        'startInning': 'Entrada de inicio', 'InningsPitch': 'Entradas lanzadas', 'SwingStrikes': 'Strikes con swing',\n",
    "        'Walk': 'Bases por bolas', 'runs': 'Carreras', 'earnedRuns': 'Carreras limpias'\n",
    "    }\n",
    ")\n",
    "#lineaPitcheoDiablos"
   ]
  },
  {
   "cell_type": "code",
   "execution_count": null,
   "id": "43ed1a52",
   "metadata": {},
   "outputs": [],
   "source": [
    "temp=lineaPitcheoDiablos.groupby('Nombre').agg({\n",
    "        'No lanzamientos': 'sum', \n",
    "        'Bateadores enfrentados': 'min',\n",
    "        'Entrada de inicio': 'min',\n",
    "        'Entradas lanzadas': 'min',\n",
    "        'Strikes': 'sum',\n",
    "        'Strikes con swing': 'sum',\n",
    "        'Bolas': 'sum',\n",
    "        'Ponches': 'sum',\n",
    "        'Bases por bolas': 'sum',\n",
    "        'Carreras': 'min',\n",
    "        'Carreras limpias': 'min'\n",
    "    })"
   ]
  },
  {
   "cell_type": "markdown",
   "id": "39132041",
   "metadata": {},
   "source": [
    "#### Distribución de pitcheos"
   ]
  },
  {
   "cell_type": "code",
   "execution_count": null,
   "id": "90326ebc",
   "metadata": {},
   "outputs": [],
   "source": [
    "distribucionLanzamientosDaiablos = pd.merge(\n",
    "    lineaPitcheoDiablos[['Team', 'Nombre', 'BatterSide', 'No lanzamientos', 'Strikes', 'Strikes con swing', 'Bolas', 'Ponches', 'Bases por bolas']],\n",
    "    awayAtBats.groupby(['Pitcher', 'BatterSide', 'TaggedPitchType']).agg(\n",
    "        Uso=pd.NamedAgg(column='PitchNo', aggfunc='count'),\n",
    "        MaxSpeed= pd.NamedAgg(column='RelSpeed', aggfunc=lambda x: round(x.max(), 1)),\n",
    "        AvgSpeed=pd.NamedAgg(column='RelSpeed', aggfunc=lambda x:round(x.mean(), 1)),\n",
    "        StrikesPorTipo=pd.NamedAgg(column='PitchCall', aggfunc=lambda x: np.where(\n",
    "            (x.str.startswith('Strike')) | (x.str.startswith('FoulBall')) | (x.str.startswith('InPlay')), 1, 0).sum()),\n",
    "        SwingStrikesPorTipo=pd.NamedAgg(column='PitchCall', aggfunc=lambda x: np.where(x == 'StrikeSwinging', 1, 0).sum()),\n",
    "        BolasPorTipo=pd.NamedAgg(column='PitchCall', aggfunc=lambda x: np.where(x.str.startswith('Ball'), 1, 0).sum()),\n",
    "        PonchesPorTipo=pd.NamedAgg(column='KorBB', aggfunc=lambda x: np.where(x == 'Strikeout', 1, 0).sum())\n",
    "    ).reset_index(), left_on=['Nombre', 'BatterSide'], right_on=['Pitcher', 'BatterSide']\n",
    ").rename(columns={'TaggedPitchType': 'Tipo lanzamiento', 'MaxSpeed': 'Velocidad maxima', 'AvgSpeed': 'Velocidad promedio'})\n",
    "distribucionLanzamientosDaiablos=pd.concat(\n",
    "    [\n",
    "    distribucionLanzamientosDaiablos, \n",
    "    distribucionLanzamientosDaiablos.groupby(['Team', 'Nombre', 'Tipo lanzamiento']).agg({\n",
    "        'BatterSide': lambda x: 'Total',\n",
    "        'No lanzamientos': 'sum',\n",
    "        'Strikes': 'sum',\n",
    "        'Strikes con swing': 'sum',\n",
    "        'Bolas': 'sum',\n",
    "        'Ponches': 'sum',\n",
    "        'Bases por bolas': 'sum',\n",
    "        'Uso': 'sum',\n",
    "        'Velocidad maxima': 'max',\n",
    "        'Velocidad promedio': 'mean',\n",
    "        'StrikesPorTipo': 'sum',\n",
    "        'SwingStrikesPorTipo': 'sum',\n",
    "        'BolasPorTipo': 'sum',\n",
    "        'PonchesPorTipo': 'sum'\n",
    "    }).reset_index()\n",
    "    ])\n",
    "distribucionLanzamientosDaiablos['Porcentaje de uso'] = round(\n",
    "    (100*distribucionLanzamientosDaiablos['Uso'])/distribucionLanzamientosDaiablos['No lanzamientos'], 1)\n",
    "distribucionLanzamientosDaiablos['Strikes %'] = round(\n",
    "    (100*distribucionLanzamientosDaiablos['StrikesPorTipo'])/distribucionLanzamientosDaiablos['Strikes'], 1)\n",
    "distribucionLanzamientosDaiablos['Swing Strikes %'] = round(\n",
    "    (100*distribucionLanzamientosDaiablos['SwingStrikesPorTipo'])/distribucionLanzamientosDaiablos['Strikes con swing'], 1)\n",
    "distribucionLanzamientosDaiablos['Bolas %'] = round(\n",
    "    (100*distribucionLanzamientosDaiablos['BolasPorTipo'])/distribucionLanzamientosDaiablos['Bolas'], 1)\n",
    "distribucionLanzamientosDaiablos['Ponches %'] = round(\n",
    "    (100*distribucionLanzamientosDaiablos['PonchesPorTipo'])/distribucionLanzamientosDaiablos['Ponches'], 1)\n",
    "distribucionLanzamientosDaiablos = distribucionLanzamientosDaiablos.drop(columns=['Pitcher']).fillna(0)\n",
    "#distribucionLanzamientosDaiablos"
   ]
  },
  {
   "cell_type": "markdown",
   "id": "2442556d",
   "metadata": {},
   "source": [
    "#### Situaciones de riesgo"
   ]
  },
  {
   "cell_type": "code",
   "execution_count": null,
   "id": "56da9377",
   "metadata": {},
   "outputs": [],
   "source": [
    "resultadoSituacionRiesgo = pd.merge(\n",
    "    awayAtBats[\n",
    "        (awayAtBats['Balls'] == 3) & (awayAtBats['Strikes'] == 0)\n",
    "    ][['Inning', 'PAofInning', 'Pitcher']],\n",
    "    awayAtBats[['Inning', 'PAofInning', 'PitchCall', 'KorBB', 'PlayResult']],\n",
    "    on=['Inning', 'PAofInning']\n",
    ").groupby(['Inning', 'PAofInning']).last().reset_index()\n",
    "\n",
    "resultadoSituacionRiesgo['Resultado'] = np.where(\n",
    "    resultadoSituacionRiesgo['KorBB'] == 'Strikeout', 'Ponche',\n",
    "    np.where(resultadoSituacionRiesgo['KorBB'] == 'Walk', 'Base por bolas',\n",
    "    np.where(resultadoSituacionRiesgo['PitchCall'] == 'HitByPitch', 'Base por golpe', \n",
    "    np.where((resultadoSituacionRiesgo['PlayResult'] == 'Single') |\n",
    "             (resultadoSituacionRiesgo['PlayResult'] == 'Double') |\n",
    "             (resultadoSituacionRiesgo['PlayResult'] == 'Triple') |\n",
    "             (resultadoSituacionRiesgo['PlayResult'] == 'HomeRun'), 'Hit',\n",
    "    np.where(resultadoSituacionRiesgo['PlayResult'] == 'Out', 'Out',\n",
    "    np.where(resultadoSituacionRiesgo['PlayResult'] == 'Error', 'Error', \n",
    "    np.where(resultadoSituacionRiesgo['PlayResult'] == 'FieldersChoice', 'Bola ocupada', \n",
    "    np.where(resultadoSituacionRiesgo['PlayResult'] == 'Sacrifice', 'Sacrificio', '')\n",
    "    ))))))\n",
    ")\n",
    "\n",
    "resultadoSituacionRiesgo = resultadoSituacionRiesgo[['Pitcher', 'Resultado']]\n",
    "resultadoSituacionRiesgo = pd.get_dummies(resultadoSituacionRiesgo, columns=['Resultado'], dtype=int)\n",
    "resultadoSituacionRiesgo['Total'] = resultadoSituacionRiesgo.groupby(['Pitcher'])['Pitcher'].transform('count')\n",
    "resultadoSituacionRiesgo = resultadoSituacionRiesgo.groupby('Pitcher').apply(lambda x: round(x.mean()*100, 1)).reset_index()\n",
    "resultadoSituacionRiesgo['Total'] = resultadoSituacionRiesgo['Total']/100\n",
    "newColumns = [x.replace('Resultado_', '') for x in resultadoSituacionRiesgo.columns]\n",
    "resultadoSituacionRiesgo = resultadoSituacionRiesgo.rename(columns=dict(zip(resultadoSituacionRiesgo.columns, newColumns)))\n",
    "resultadoSituacionRiesgo"
   ]
  },
  {
   "cell_type": "markdown",
   "id": "cca62cdc",
   "metadata": {},
   "source": [
    "#### Wilmer Font"
   ]
  },
  {
   "cell_type": "markdown",
   "id": "d70bce78",
   "metadata": {},
   "source": [
    "##### Línea de pitcheo"
   ]
  },
  {
   "cell_type": "code",
   "execution_count": null,
   "id": "3b1b99b9",
   "metadata": {},
   "outputs": [],
   "source": [
    "# Seleccionar solo el pitcher Wilmer Font\n",
    "a=lineaPitcheoDiablos[lineaPitcheoDiablos['Nombre'] == 'Wilmer Font'].agg({\n",
    "    'No lanzamientos': 'sum', \n",
    "    'Bateadores enfrentados': 'min',\n",
    "    'Entrada de inicio': 'min',\n",
    "    'Entradas lanzadas': 'min',\n",
    "    'Strikes': 'sum',\n",
    "    'Strikes con swing': 'sum',\n",
    "    'Bolas': 'sum',\n",
    "    'Ponches': 'sum',\n",
    "    'Bases por bolas': 'sum',\n",
    "    'Carreras': 'min',\n",
    "    'Carreras limpias': 'min'\n",
    "})\n",
    "a.to_frame().T.to_csv('../reporte/csv/lineaPitcheo/lineaWilmerFont.csv', index=False, encoding='utf-8-sig')"
   ]
  },
  {
   "cell_type": "markdown",
   "id": "a5d5b898",
   "metadata": {},
   "source": [
    "##### Distribucion de pitcheo total"
   ]
  },
  {
   "cell_type": "code",
   "execution_count": null,
   "id": "f63fabec",
   "metadata": {},
   "outputs": [],
   "source": [
    "columnas = ['Tipo lanzamiento', 'Uso', 'Porcentaje de uso', 'Velocidad maxima', 'Velocidad promedio', \n",
    "            'Strikes %', 'Swing Strikes %', 'Bolas %', 'Ponches %']\n",
    "distribucionWilmerFont = distribucionLanzamientosDaiablos[\n",
    "    (distribucionLanzamientosDaiablos['Nombre'] == 'Wilmer Font') &\n",
    "    (distribucionLanzamientosDaiablos['BatterSide']=='Total')\n",
    "].sort_values(by='Uso', ascending=False).reset_index(drop=True)\n",
    "distribucionWilmerFont[columnas].to_csv('../reporte/csv/distribucionPitcheo/total/distribucionWilmerFont.csv', index=False, encoding='utf-8-sig')\n",
    "#distribucionWilmerFont"
   ]
  },
  {
   "cell_type": "code",
   "execution_count": null,
   "id": "34e9152f",
   "metadata": {},
   "outputs": [],
   "source": [
    "ruta = '../reporte/img/distribucionPitcheo/total/distribucion{0}WilmerFont.png'\n",
    "\n",
    "titulo = 'Distribución de lanzamientos de Wilmer Font'\n",
    "distribucionWilmerFontImg = graficarDistribucionLanzamientos(\n",
    "    dfDist=distribucionWilmerFont.rename(columns={'Porcentaje de uso': 'Porcentaje', 'Uso': 'Total'}),\n",
    "    dfPos=awayAtBats[awayAtBats['Pitcher'] == 'Wilmer Font'],\n",
    "    titulo=titulo\n",
    ")\n",
    "distribucionWilmerFontImg.savefig(ruta.format(''), bbox_inches='tight', dpi=300)\n",
    "\n",
    "titulo = 'Distribución de strikes de Wilmer Font'\n",
    "distribucionStrikesWilmerFontImg = graficarDistribucionLanzamientos(\n",
    "    dfDist=distribucionWilmerFont.rename(columns={'Strikes %': 'Porcentaje', 'StrikesPorTipo': 'Total'}),\n",
    "    dfPos=awayAtBats[(awayAtBats['Pitcher'] == 'Wilmer Font') & \n",
    "                     ((awayAtBats['PitchCall'].str.startswith('Strike')) |\n",
    "                      (awayAtBats['PitchCall'].str.startswith('FoulBall')) |\n",
    "                      (awayAtBats['PitchCall'].str.startswith('InPlay')))],\n",
    "    titulo=titulo\n",
    ")\n",
    "distribucionStrikesWilmerFontImg.savefig(ruta.format('Strikes'), bbox_inches='tight', dpi=300)\n",
    "\n",
    "titulo = 'Distribución de ponches de Wilmer Font'\n",
    "distribucionPonchesWilmerFontImg = graficarDistribucionLanzamientos(\n",
    "    dfDist=distribucionWilmerFont.rename(columns={'Ponches %': 'Porcentaje', 'PonchesPorTipo': 'Total'}),\n",
    "    dfPos=awayAtBats[(awayAtBats['Pitcher'] == 'Wilmer Font') & \n",
    "                     (awayAtBats['KorBB'].str.startswith('Strikeout'))],\n",
    "    titulo=titulo\n",
    ")\n",
    "distribucionPonchesWilmerFontImg.savefig(ruta.format('Ponches'), bbox_inches='tight', dpi=300)\n",
    "\n",
    "titulo = 'Distribución de bolas de Wilmer Font'\n",
    "distribucionBolasWilmerFontImg = graficarDistribucionLanzamientos(\n",
    "    dfDist=distribucionWilmerFont.rename(columns={'Bolas %': 'Porcentaje', 'BolasPorTipo': 'Total'}),\n",
    "    dfPos=awayAtBats[(awayAtBats['Pitcher'] == 'Wilmer Font') & \n",
    "                     (awayAtBats['PitchCall'].str.startswith('Ball'))],\n",
    "    titulo=titulo\n",
    ")\n",
    "distribucionBolasWilmerFontImg.savefig(ruta.format('Bolas'), bbox_inches='tight', dpi=300)"
   ]
  },
  {
   "cell_type": "markdown",
   "id": "bf9b621a",
   "metadata": {},
   "source": [
    "##### Distribucion de pitcheo vs derechos"
   ]
  },
  {
   "cell_type": "code",
   "execution_count": null,
   "id": "1f54b0cf",
   "metadata": {},
   "outputs": [],
   "source": [
    "columnas = ['Tipo lanzamiento', 'Uso', 'Porcentaje de uso', 'Velocidad maxima', 'Velocidad promedio', \n",
    "            'Strikes %', 'Swing Strikes %', 'Bolas %', 'Ponches %']\n",
    "distribucionVsRWilmerFont = distribucionLanzamientosDaiablos[\n",
    "    (distribucionLanzamientosDaiablos['Nombre'] == 'Wilmer Font') &\n",
    "    (distribucionLanzamientosDaiablos['BatterSide']=='Right')\n",
    "].sort_values(by='Uso', ascending=False).reset_index(drop=True)\n",
    "distribucionVsRWilmerFont[columnas].to_csv('../reporte/csv/distribucionPitcheo/right/distribucionVsDerechosWilmerFont.csv', index=False, encoding='utf-8-sig')\n",
    "#distribucionVsRWilmerFont"
   ]
  },
  {
   "cell_type": "code",
   "execution_count": null,
   "id": "c12d93cd",
   "metadata": {},
   "outputs": [],
   "source": [
    "ruta = '../reporte/img/distribucionPitcheo/right/distribucionVsR{0}WilmerFont.png'\n",
    "\n",
    "titulo = 'Distribución de lanzamientos de Wilmer Font vs bateadores derechos'\n",
    "distribucionVsRWilmerFontImg = graficarDistribucionLanzamientos(\n",
    "    dfDist=distribucionVsRWilmerFont.rename(columns={'Porcentaje de uso': 'Porcentaje', 'Uso': 'Total'}),\n",
    "    dfPos=awayAtBats[(awayAtBats['Pitcher'] == 'Wilmer Font') &\n",
    "                     (awayAtBats['BatterSide'] == 'Right')],\n",
    "    titulo=titulo\n",
    ")\n",
    "distribucionVsRWilmerFontImg.savefig(ruta.format(''), bbox_inches='tight', dpi=300)\n",
    "\n",
    "titulo = 'Distribución de strikes de Wilmer Font vs bateadores derechos'\n",
    "distribucionStrikesVsRWilmerFontImg = graficarDistribucionLanzamientos(\n",
    "    dfDist=distribucionVsRWilmerFont.rename(columns={'Strikes %': 'Porcentaje', 'StrikesPorTipo': 'Total'}),\n",
    "    dfPos=awayAtBats[(awayAtBats['Pitcher'] == 'Wilmer Font') &\n",
    "                     (awayAtBats['BatterSide'] == 'Right') & \n",
    "                     ((awayAtBats['PitchCall'].str.startswith('Strike')) |\n",
    "                      (awayAtBats['PitchCall'].str.startswith('FoulBall')) |\n",
    "                      (awayAtBats['PitchCall'].str.startswith('InPlay')))],\n",
    "    titulo=titulo\n",
    ")\n",
    "distribucionStrikesVsRWilmerFontImg.savefig(ruta.format('Strikes'), bbox_inches='tight', dpi=300)\n",
    "\n",
    "titulo = 'Distribución de ponches de Wilmer Font vs bateadores derechos'\n",
    "distribucionPonchesVsRWilmerFontImg = graficarDistribucionLanzamientos(\n",
    "    dfDist=distribucionVsRWilmerFont.rename(columns={'Ponches %': 'Porcentaje', 'PonchesPorTipo': 'Total'}),\n",
    "    dfPos=awayAtBats[(awayAtBats['Pitcher'] == 'Wilmer Font')  &\n",
    "                     (awayAtBats['BatterSide'] == 'Right')& \n",
    "                     (awayAtBats['KorBB'].str.startswith('Strikeout'))],\n",
    "    titulo=titulo\n",
    ")\n",
    "distribucionPonchesVsRWilmerFontImg.savefig(ruta.format('Ponches'), bbox_inches='tight', dpi=300)\n",
    "\n",
    "titulo = 'Distribución de bolas de Wilmer Font vs bateadores derechos'\n",
    "distribucionBolasVsRWilmerFontImg = graficarDistribucionLanzamientos(\n",
    "    dfDist=distribucionVsRWilmerFont.rename(columns={'Bolas %': 'Porcentaje', 'BolasPorTipo': 'Total'}),\n",
    "    dfPos=awayAtBats[(awayAtBats['Pitcher'] == 'Wilmer Font')  &\n",
    "                     (awayAtBats['BatterSide'] == 'Right')& \n",
    "                     (awayAtBats['PitchCall'].str.startswith('Ball'))],\n",
    "    titulo=titulo\n",
    ")\n",
    "distribucionBolasVsRWilmerFontImg.savefig(ruta.format('Bolas'), bbox_inches='tight', dpi=300)"
   ]
  },
  {
   "cell_type": "markdown",
   "id": "26e28e76",
   "metadata": {},
   "source": [
    "##### Distribucion de pitcheo vs izquierdos"
   ]
  },
  {
   "cell_type": "code",
   "execution_count": null,
   "id": "7cbbe2d0",
   "metadata": {},
   "outputs": [],
   "source": [
    "columnas = ['Tipo lanzamiento', 'Uso', 'Porcentaje de uso', 'Velocidad maxima', 'Velocidad promedio', \n",
    "            'Strikes %', 'Swing Strikes %', 'Bolas %', 'Ponches %']\n",
    "distribucionVsLWilmerFont = distribucionLanzamientosDaiablos[\n",
    "    (distribucionLanzamientosDaiablos['Nombre'] == 'Wilmer Font') &\n",
    "    (distribucionLanzamientosDaiablos['BatterSide']=='Left')\n",
    "].sort_values(by='Uso', ascending=False).reset_index(drop=True)\n",
    "distribucionVsLWilmerFont[columnas].to_csv('../reporte/csv/distribucionPitcheo/left/distribucionVsZurdosWilmerFont.csv', index=False, encoding='utf-8-sig')\n",
    "#distribucionVsLWilmerFont"
   ]
  },
  {
   "cell_type": "code",
   "execution_count": null,
   "id": "517e8c39",
   "metadata": {},
   "outputs": [],
   "source": [
    "ruta = '../reporte/img/distribucionPitcheo/left/distribucionVsL{0}WilmerFont.png'\n",
    "\n",
    "titulo = 'Distribución de lanzamientos de Wilmer Font vs bateadores izquierdos'\n",
    "distribucionVsLWilmerFontImg = graficarDistribucionLanzamientos(\n",
    "    dfDist=distribucionVsLWilmerFont.rename(columns={'Porcentaje de uso': 'Porcentaje', 'Uso': 'Total'}),\n",
    "    dfPos=awayAtBats[(awayAtBats['Pitcher'] == 'Wilmer Font') &\n",
    "                     (awayAtBats['BatterSide'] == 'Left')],\n",
    "    titulo=titulo\n",
    ")\n",
    "distribucionVsLWilmerFontImg.savefig(ruta.format(''), bbox_inches='tight', dpi=300)\n",
    "\n",
    "titulo = 'Distribución de strikes de Wilmer Font vs bateadores izquierdos'\n",
    "distribucionStrikesVsLWilmerFontImg = graficarDistribucionLanzamientos(\n",
    "    dfDist=distribucionVsLWilmerFont.rename(columns={'Strikes %': 'Porcentaje', 'StrikesPorTipo': 'Total'}),\n",
    "    dfPos=awayAtBats[(awayAtBats['Pitcher'] == 'Wilmer Font') &\n",
    "                     (awayAtBats['BatterSide'] == 'Left') & \n",
    "                     ((awayAtBats['PitchCall'].str.startswith('Strike')) |\n",
    "                      (awayAtBats['PitchCall'].str.startswith('FoulBall')) |\n",
    "                      (awayAtBats['PitchCall'].str.startswith('InPlay')))],\n",
    "    titulo=titulo\n",
    ")\n",
    "distribucionStrikesVsLWilmerFontImg.savefig(ruta.format('Strikes'), bbox_inches='tight', dpi=300)\n",
    "\n",
    "titulo = 'Distribución de ponches de Wilmer Font vs bateadores izquierdos'\n",
    "distribucionPonchesVsLWilmerFontImg = graficarDistribucionLanzamientos(\n",
    "    dfDist=distribucionVsLWilmerFont.rename(columns={'Ponches %': 'Porcentaje', 'PonchesPorTipo': 'Total'}),\n",
    "    dfPos=awayAtBats[(awayAtBats['Pitcher'] == 'Wilmer Font')  &\n",
    "                     (awayAtBats['BatterSide'] == 'Left')& \n",
    "                     (awayAtBats['KorBB'].str.startswith('Strikeout'))],\n",
    "    titulo=titulo\n",
    ")\n",
    "distribucionPonchesVsLWilmerFontImg.savefig(ruta.format('Ponches'), bbox_inches='tight', dpi=300)\n",
    "\n",
    "titulo = 'Distribución de bolas de Wilmer Font vs bateadores izquierdos'\n",
    "distribucionBolasVsLWilmerFontImg = graficarDistribucionLanzamientos(\n",
    "    dfDist=distribucionVsLWilmerFont.rename(columns={'Bolas %': 'Porcentaje', 'BolasPorTipo': 'Total'}),\n",
    "    dfPos=awayAtBats[(awayAtBats['Pitcher'] == 'Wilmer Font')  &\n",
    "                     (awayAtBats['BatterSide'] == 'Left')& \n",
    "                     (awayAtBats['PitchCall'].str.startswith('Ball'))],\n",
    "    titulo=titulo\n",
    ")\n",
    "distribucionBolasVsLWilmerFontImg.savefig(ruta.format('Bolas'), bbox_inches='tight', dpi=300)"
   ]
  },
  {
   "cell_type": "markdown",
   "id": "2b5d7a20",
   "metadata": {},
   "source": [
    "##### Situaciones de riesgo"
   ]
  },
  {
   "cell_type": "code",
   "execution_count": null,
   "id": "1cf4dc52",
   "metadata": {},
   "outputs": [],
   "source": [
    "situacionRiesgoWilmerFont = resultadoSituacionRiesgo[resultadoSituacionRiesgo['Pitcher'] == 'Wilmer Font'].reset_index(drop=True)\n",
    "total = int(situacionRiesgoWilmerFont['Total'].to_numpy()[0])\n",
    "situacionRiesgoWilmerFont = situacionRiesgoWilmerFont.drop(columns=['Total', 'Pitcher']).T.rename(columns={0: 'Porcentaje'})\n",
    "situacionRiesgoWilmerFont = situacionRiesgoWilmerFont[situacionRiesgoWilmerFont['Porcentaje'] > 0].reset_index()"
   ]
  },
  {
   "cell_type": "code",
   "execution_count": null,
   "id": "53a94acf",
   "metadata": {},
   "outputs": [],
   "source": [
    "fig, ax = plt.subplots(figsize=(6, 4))\n",
    "plot = ax.pie(\n",
    "        situacionRiesgoWilmerFont['Porcentaje'], \n",
    "        startangle=90,\n",
    "        wedgeprops=dict(width=0.3),\n",
    "        radius=0.7,\n",
    "        pctdistance=1.4,\n",
    "        labels=None\n",
    "    )\n",
    "ax.text(\n",
    "        0, 0,\n",
    "        total,\n",
    "        ha='center', va='center',\n",
    "        fontsize=12, weight='bold'\n",
    "    )\n",
    "ax.legend(\n",
    "        plot[0], \n",
    "        [f\"{l} ({p:.1f}%)\" for l, p in zip(situacionRiesgoWilmerFont['index'], situacionRiesgoWilmerFont['Porcentaje'])],\n",
    "        loc=\"lower center\",\n",
    "        ncol=2,\n",
    "        frameon=False,\n",
    "        fontsize='small'\n",
    "    )"
   ]
  }
 ],
 "metadata": {
  "kernelspec": {
   "display_name": ".venv",
   "language": "python",
   "name": "python3"
  },
  "language_info": {
   "codemirror_mode": {
    "name": "ipython",
    "version": 3
   },
   "file_extension": ".py",
   "mimetype": "text/x-python",
   "name": "python",
   "nbconvert_exporter": "python",
   "pygments_lexer": "ipython3",
   "version": "3.13.5"
  }
 },
 "nbformat": 4,
 "nbformat_minor": 5
}
