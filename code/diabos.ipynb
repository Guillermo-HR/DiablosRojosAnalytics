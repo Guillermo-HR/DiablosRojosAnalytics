{
 "cells": [
  {
   "cell_type": "markdown",
   "id": "4aa0ee2c",
   "metadata": {},
   "source": [
    "# Partido Diablos vs Sultanes 2025-06-17"
   ]
  },
  {
   "cell_type": "markdown",
   "id": "e5e9687d",
   "metadata": {},
   "source": [
    "Notebook para analizar y generar reportes del partido entre Diablos Rojos y Sultanes de Monterrey del 17 de junio de 2025. Se utilizan datos de TrackMan y la API de MLB.\n",
    "\n",
    "* [TrackMan](https://support.trackmanbaseball.com/hc/en-us/articles/5089413493787-V3-FAQs-Radar-Measurement-Glossary-Of-Terms)\n",
    "* [MLB](https://github.com/MajorLeagueBaseball/google-cloud-mlb-hackathon/tree/main/datasets/mlb-statsapi-docs)"
   ]
  },
  {
   "cell_type": "markdown",
   "id": "ad5a2e92",
   "metadata": {},
   "source": [
    "## Importar bibliotecas y datos"
   ]
  },
  {
   "cell_type": "code",
   "execution_count": null,
   "id": "664a9617",
   "metadata": {},
   "outputs": [],
   "source": [
    "import pandas as pd\n",
    "pd.set_option('display.max_columns', None)\n",
    "import numpy as np\n",
    "%matplotlib inline\n",
    "import matplotlib.pyplot as plt\n",
    "import seaborn as sns"
   ]
  },
  {
   "cell_type": "code",
   "execution_count": null,
   "id": "a73a2528",
   "metadata": {},
   "outputs": [],
   "source": [
    "ruta = '../data/20250617-EstadioAlfredo-1.csv'\n",
    "df = pd.read_csv(ruta, sep=',', encoding='utf-8')\n",
    "df.head()"
   ]
  },
  {
   "cell_type": "markdown",
   "id": "d15ca543",
   "metadata": {},
   "source": [
    "## Exploracion inicial de datos"
   ]
  },
  {
   "cell_type": "code",
   "execution_count": null,
   "id": "62eecf2b",
   "metadata": {},
   "outputs": [],
   "source": [
    "df.shape"
   ]
  },
  {
   "cell_type": "code",
   "execution_count": null,
   "id": "4fafddc6",
   "metadata": {},
   "outputs": [],
   "source": [
    "list(df.columns)"
   ]
  },
  {
   "cell_type": "code",
   "execution_count": null,
   "id": "e7525503",
   "metadata": {},
   "outputs": [],
   "source": [
    "df.dtypes"
   ]
  },
  {
   "cell_type": "code",
   "execution_count": null,
   "id": "7c9e5704",
   "metadata": {},
   "outputs": [],
   "source": [
    "df.describe()"
   ]
  },
  {
   "cell_type": "markdown",
   "id": "74b9b4ab",
   "metadata": {},
   "source": [
    "## Limpiar datos"
   ]
  },
  {
   "cell_type": "code",
   "execution_count": null,
   "id": "b9a00a44",
   "metadata": {},
   "outputs": [],
   "source": [
    "# Elimiar columnas que no se van a usar\n",
    "df = df.drop(columns=[\n",
    "    'UTCDate', 'UTCTime', 'LocalDateTime', 'UTCDateTime', 'PitcherId', 'PitcherTeam', 'BatterId',\n",
    "    'BatterTeam', 'PitcherSet', 'AutoPitchType', 'AutoHitType', 'Notes', 'Distance', 'Stadium',\n",
    "    'HomeTeamForeignID', 'AwayTeamForeignID', 'GameForeignID', 'Level', 'League', 'GameID',\n",
    "    'PitchUID', 'System'\n",
    "  ], axis=1)"
   ]
  },
  {
   "cell_type": "code",
   "execution_count": null,
   "id": "0613f649",
   "metadata": {},
   "outputs": [],
   "source": [
    "df['Pitcher'] = df['Pitcher'].str.split(', ').apply(lambda x: x[1] + ' ' + x[0])\n",
    "df['Batter'] = df['Batter'].str.split(', ').apply(lambda x: x[1] + ' ' + x[0])"
   ]
  },
  {
   "cell_type": "markdown",
   "id": "458c8290",
   "metadata": {},
   "source": [
    "## Separar en 2 dataframes uno para local y otro para visitante"
   ]
  },
  {
   "cell_type": "code",
   "execution_count": null,
   "id": "bf0b8a82",
   "metadata": {},
   "outputs": [],
   "source": [
    "homeBatting = df[df['Top/Bottom'] == 'Bottom'].copy()\n",
    "awayBatting = df[df['Top/Bottom'] == 'Top'].copy()"
   ]
  },
  {
   "cell_type": "markdown",
   "id": "32e05b63",
   "metadata": {},
   "source": [
    "## Obtener el lineup de cada equipo"
   ]
  },
  {
   "cell_type": "code",
   "execution_count": null,
   "id": "91b57277",
   "metadata": {},
   "outputs": [],
   "source": [
    "print('Diablos Rojos: ', homeBatting['Batter'].unique().tolist()[:9])\n",
    "print('Sultanes de Monterrey: ', awayBatting['Batter'].unique().tolist()[:9])"
   ]
  },
  {
   "cell_type": "markdown",
   "id": "a85bf5b0",
   "metadata": {},
   "source": [
    "## Obtener los pitchers de cada equipo"
   ]
  },
  {
   "cell_type": "code",
   "execution_count": null,
   "id": "b9f2482a",
   "metadata": {},
   "outputs": [],
   "source": [
    "print('Diablos Rojos: ', awayBatting['Pitcher'].unique().tolist())\n",
    "print('Sultanes de Monterrey: ', homeBatting['Pitcher'].unique().tolist())"
   ]
  },
  {
   "cell_type": "markdown",
   "id": "9edc554f",
   "metadata": {},
   "source": [
    "## Análisis de pitchers"
   ]
  },
  {
   "cell_type": "markdown",
   "id": "53d2554b",
   "metadata": {},
   "source": [
    "### Diablos"
   ]
  },
  {
   "cell_type": "markdown",
   "id": "0a02eac0",
   "metadata": {},
   "source": [
    "Generar una tabla con la informacion general de Wilmert Font, entrada en la que entro, entradas lanzadas, numero de lanzamientos, strikeouts, carreras"
   ]
  },
  {
   "cell_type": "markdown",
   "id": "6e99cd18",
   "metadata": {},
   "source": [
    "Generar tabla con la informacion de Wilmert Font, incluir tipo de lanzamiento, numero de veces lanzado, %uso, velocidad maxima, velocidad promedio, % de strikes, % swing strike, % de bolas, % de strikeout y % de bases por bolas"
   ]
  },
  {
   "cell_type": "code",
   "execution_count": null,
   "id": "844069a1",
   "metadata": {},
   "outputs": [],
   "source": [
    "fontDf = awayBatting[awayBatting['Pitcher'] == 'Font, Wilmer'][['TaggedPitchType', 'PitchCall', 'KorBB', 'RelSpeed']].copy()\n",
    "fontDf = pd.get_dummies(fontDf, columns=['PitchCall', 'KorBB'], dtype=int)\n",
    "fontDf['strike'] = fontDf['PitchCall_StrikeCalled'] + fontDf['PitchCall_StrikeSwinging']\n",
    "fontDf['ball'] = fontDf['PitchCall_BallCalled'] + fontDf['PitchCall_BallinDirt']\n",
    "fontDf.drop(columns=['PitchCall_StrikeCalled', 'PitchCall_BallCalled', 'PitchCall_BallinDirt', 'KorBB_Undefined'], inplace=True)\n",
    "fontResults = fontDf.groupby('TaggedPitchType').agg(\n",
    "    Usage=('TaggedPitchType', 'count'),\n",
    "    UsagePct=('TaggedPitchType', lambda x: round(len(x) / len(fontDf) * 100, 1)),\n",
    "    MaxSpeed=('RelSpeed', lambda x: round(x.max(), 1)),\n",
    "    AvgSpeed=('RelSpeed', lambda x: round(x.mean(), 1)),\n",
    "    strikePct=('strike', lambda x: round(sum(x) / len(x) * 100, 1)),\n",
    "    swingStrikePct=('PitchCall_StrikeSwinging', lambda x: round(sum(x) / len(x) * 100, 1)),\n",
    "    ballPct=('ball', lambda x: round(sum(x) / len(x) * 100, 1)),\n",
    "    stikeOutPct=('KorBB_Strikeout', lambda x: round(sum(x) / sum(fontDf['KorBB_Strikeout']) * 100, 1)),\n",
    "    walkPct=('KorBB_Walk', lambda x: round(sum(x) / sum(fontDf['KorBB_Walk']) * 100, 1))\n",
    ").sort_values(by='Usage', ascending=False).reset_index()\n",
    "fontResults"
   ]
  },
  {
   "cell_type": "code",
   "execution_count": null,
   "id": "9980c966",
   "metadata": {},
   "outputs": [],
   "source": [
    "def printBox():\n",
    "    fig = plt.figure(figsize=(12, 8))\n",
    "    fig.ad\n",
    "    return fig\n",
    "printBox().show()"
   ]
  }
 ],
 "metadata": {
  "kernelspec": {
   "display_name": ".venv",
   "language": "python",
   "name": "python3"
  },
  "language_info": {
   "codemirror_mode": {
    "name": "ipython",
    "version": 3
   },
   "file_extension": ".py",
   "mimetype": "text/x-python",
   "name": "python",
   "nbconvert_exporter": "python",
   "pygments_lexer": "ipython3",
   "version": "3.13.5"
  }
 },
 "nbformat": 4,
 "nbformat_minor": 5
}
